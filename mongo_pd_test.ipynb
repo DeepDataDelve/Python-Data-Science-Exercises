{
 "cells": [
  {
   "cell_type": "code",
   "execution_count": 3,
   "id": "a9598dc2-1977-4bdf-a53f-f501191361d9",
   "metadata": {},
   "outputs": [],
   "source": [
    "import pandas as pd\n",
    "from pymongo import MongoClient\n",
    "import json"
   ]
  },
  {
   "cell_type": "code",
   "execution_count": 9,
   "id": "6d24ac8d-60d4-44fd-9bdf-5ac5517294a0",
   "metadata": {},
   "outputs": [],
   "source": [
    "mongo_info_raw = open('mongo_info.json')\n",
    "mongo_info = json.loads(mongo_info_raw.read())"
   ]
  },
  {
   "cell_type": "code",
   "execution_count": 11,
   "id": "d4650168-715e-40b8-b5b5-c42a29e4fb13",
   "metadata": {},
   "outputs": [],
   "source": [
    "client = MongoClient(mongo_info[\"fullConnectionString\"])\n",
    "db = client.test"
   ]
  },
  {
   "cell_type": "code",
   "execution_count": 16,
   "id": "29b3773d-aa23-4b33-9246-de069ebc0a3b",
   "metadata": {},
   "outputs": [],
   "source": [
    "response_collection = db[mongo_info[\"ResponseDataDBName\"]]"
   ]
  },
  {
   "cell_type": "code",
   "execution_count": 17,
   "id": "f00af2c1-2a7a-4c85-a4aa-bb768ae69417",
   "metadata": {},
   "outputs": [
    {
     "name": "stdout",
     "output_type": "stream",
     "text": [
      "{'_id': ObjectId('6171e37b24e81d4740af3909'), 'userName': 'SuperDEBico', 'retweets': 111, 'favorites': 777, 'followers': 17261, 'media': 'video', 'date': datetime.datetime(2021, 10, 15, 18, 6, 33), '__v': 0}\n",
      "{'_id': ObjectId('6171e37b24e81d4740af390e'), 'userName': 'SuperDEBico', 'retweets': 346, 'favorites': 1592, 'followers': 17261, 'media': 'video', 'date': datetime.datetime(2021, 10, 15, 8, 23, 6), '__v': 0}\n",
      "{'_id': ObjectId('6171e37b24e81d4740af390d'), 'userName': 'SuperDEBico', 'retweets': 79, 'favorites': 378, 'followers': 17261, 'media': 'video', 'date': datetime.datetime(2021, 10, 15, 8, 37, 57), '__v': 0}\n",
      "{'_id': ObjectId('618c467ab7e1ea64846ecf85'), 'userName': 'SpaceX', 'retweets': 2856, 'favorites': 31437, 'followers': 18681772, 'hashtags': '', 'media': 'video', 'date': datetime.datetime(2021, 11, 9, 1, 39, 40), '__v': 0}\n",
      "{'_id': ObjectId('618c467ab7e1ea64846ecf80'), 'userName': 'SpaceX', 'retweets': 1181, 'favorites': 10851, 'followers': 18681772, 'hashtags': '', 'media': 'video', 'date': datetime.datetime(2021, 11, 9, 3, 32, 39), '__v': 0}\n",
      "{'_id': ObjectId('618c467ab7e1ea64846ecf87'), 'userName': 'SpaceX', 'retweets': 2265, 'favorites': 17306, 'followers': 18681772, 'hashtags': '', 'media': 'video', 'date': datetime.datetime(2021, 11, 8, 20, 33), '__v': 0}\n",
      "{'_id': ObjectId('618c467ab7e1ea64846ecf91'), 'userName': 'SpaceX', 'retweets': 6255, 'favorites': 57703, 'followers': 18681772, 'hashtags': '', 'media': 'video', 'date': datetime.datetime(2021, 10, 27, 22, 1, 15), '__v': 0}\n",
      "{'_id': ObjectId('618c467ab7e1ea64846ecf77'), 'userName': 'SpaceX', 'retweets': 72, 'favorites': 526, 'followers': 18681772, 'hashtags': '', 'media': 'video', 'date': datetime.datetime(2021, 11, 10, 22, 21, 8), '__v': 0}\n",
      "{'_id': ObjectId('618c467ab7e1ea64846ecf95'), 'userName': 'SpaceX', 'retweets': 22499, 'favorites': 135817, 'followers': 18681772, 'hashtags': '', 'media': 'video', 'date': datetime.datetime(2021, 10, 23, 23, 59, 28), '__v': 0}\n"
     ]
    }
   ],
   "source": [
    "for x in response_collection.find({\"userName\": { \"$regex\": \"^S\" }, \"retweets\": {\"$gt\": 50}, \"media\" : \"video\"},{ \"quotes\": 0 }):\n",
    "  print(x)"
   ]
  },
  {
   "cell_type": "code",
   "execution_count": 20,
   "id": "8616bbfc-d84e-4cd7-ab44-784a093eacd1",
   "metadata": {},
   "outputs": [
    {
     "name": "stdout",
     "output_type": "stream",
     "text": [
      "{'_id': ObjectId('5d3b94bde258e51524b88182'), 'userName': 'elonmusk', 'retweets': 3465, 'favorites': 33495, 'followers': 27584644, 'media': 'video', 'date': datetime.datetime(2019, 7, 26, 8, 48, 36), '__v': 0}\n",
      "{'_id': ObjectId('5d3b94bde258e51524b88184'), 'userName': 'elonmusk', 'retweets': 5942, 'favorites': 57008, 'followers': 27584644, 'media': 'video', 'date': datetime.datetime(2019, 7, 26, 5, 49, 13), '__v': 0}\n",
      "{'_id': ObjectId('5d490f7bcbbebc13f400775e'), 'userName': 'elonmusk', 'retweets': 6597, 'favorites': 65076, 'followers': 27705559, 'media': 'video', 'date': datetime.datetime(2019, 7, 26, 5, 49, 13), '__v': 0}\n",
      "{'_id': ObjectId('5d490f7bcbbebc13f4007738'), 'userName': 'elonmusk', 'retweets': 25124, 'favorites': 137724, 'followers': 27705559, 'media': 'video', 'date': datetime.datetime(2019, 7, 28, 19, 54, 33), '__v': 0}\n",
      "{'_id': ObjectId('5d490f7bcbbebc13f400775c'), 'userName': 'elonmusk', 'retweets': 4047, 'favorites': 40650, 'followers': 27705559, 'media': 'video', 'date': datetime.datetime(2019, 7, 26, 8, 48, 36), '__v': 0}\n",
      "{'_id': ObjectId('5d62d1c141bc1939b05d40c7'), 'userName': 'elonmusk', 'retweets': 12184, 'favorites': 106016, 'followers': 27952632, 'media': 'video', 'date': datetime.datetime(2019, 8, 7, 5, 10, 56), '__v': 0}\n",
      "{'_id': ObjectId('5d62d1c141bc1939b05d40ca'), 'userName': 'elonmusk', 'retweets': 9599, 'favorites': 77763, 'followers': 27952632, 'media': 'video', 'date': datetime.datetime(2019, 8, 7, 0, 37, 7), '__v': 0}\n",
      "{'_id': ObjectId('5d6e9b88a332490280dbd734'), 'userName': 'elonmusk', 'retweets': 1549, 'favorites': 0, 'followers': 28063775, 'media': 'video', 'date': datetime.datetime(2019, 9, 2, 2, 47, 22), '__v': 0}\n",
      "{'_id': ObjectId('5d6e9b88a332490280dbd74a'), 'userName': 'elonmusk', 'retweets': 18738, 'favorites': 0, 'followers': 28063775, 'media': 'video', 'date': datetime.datetime(2019, 8, 28, 21, 21, 16), '__v': 0}\n",
      "{'_id': ObjectId('5d6e9b88a332490280dbd7f6'), 'userName': 'elonmusk', 'retweets': 9655, 'favorites': 78019, 'followers': 28063775, 'media': 'video', 'date': datetime.datetime(2019, 8, 7, 0, 37, 7), '__v': 0}\n",
      "{'_id': ObjectId('5d6e9b88a332490280dbd7f3'), 'userName': 'elonmusk', 'retweets': 12188, 'favorites': 106150, 'followers': 28063775, 'media': 'video', 'date': datetime.datetime(2019, 8, 7, 5, 10, 56), '__v': 0}\n",
      "{'_id': ObjectId('5d73be373e4a1a0788144db2'), 'userName': 'elonmusk', 'retweets': 2907, 'favorites': 0, 'followers': 28120976, 'media': 'video', 'date': datetime.datetime(2019, 9, 6, 15, 53, 31), '__v': 0}\n",
      "{'_id': ObjectId('6171e06c0d04806b2c8c0895'), 'userName': 'elonmusk', 'retweets': 2203, 'favorites': 29081, 'followers': 61176615, 'media': 'video', 'date': datetime.datetime(2021, 10, 14, 8, 34, 18), '__v': 0}\n",
      "{'_id': ObjectId('6171e06c0d04806b2c8c08a8'), 'userName': 'elonmusk', 'retweets': 9218, 'favorites': 109588, 'followers': 61176615, 'media': 'video', 'date': datetime.datetime(2021, 10, 12, 1, 17, 1), '__v': 0}\n",
      "{'_id': ObjectId('6171e06c0d04806b2c8c08ed'), 'userName': 'elonmusk', 'retweets': 15492, 'favorites': 200356, 'followers': 61176615, 'media': 'video', 'date': datetime.datetime(2021, 10, 2, 17, 55, 39), '__v': 0}\n"
     ]
    }
   ],
   "source": [
    "for x in response_collection.find({\"userName\": \"elonmusk\", \"retweets\": {\"$gt\": 50}, \"media\" : \"video\"},{ \"quotes\": 0 }):\n",
    "  print(x)"
   ]
  },
  {
   "cell_type": "code",
   "execution_count": 25,
   "id": "8e0fbb59-10c7-481a-96c0-ecd4f370f2aa",
   "metadata": {},
   "outputs": [
    {
     "name": "stdout",
     "output_type": "stream",
     "text": [
      "{'_id': ObjectId('5d490f7bcbbebc13f400770e'), 'userName': 'elonmusk', 'retweets': 51079, 'favorites': 210271, 'followers': 27705559, 'media': 'text', 'date': datetime.datetime(2019, 8, 4, 6, 18, 7), '__v': 0}\n",
      "{'_id': ObjectId('5d490f7bcbbebc13f4007709'), 'userName': 'elonmusk', 'retweets': 20829, 'favorites': 168368, 'followers': 27705559, 'media': 'image', 'date': datetime.datetime(2019, 8, 4, 9, 56, 31), '__v': 0}\n",
      "{'_id': ObjectId('5d490f7bcbbebc13f4007727'), 'userName': 'elonmusk', 'retweets': 50872, 'favorites': 279337, 'followers': 27705559, 'media': 'image', 'date': datetime.datetime(2019, 8, 1, 19, 59, 23), '__v': 0}\n",
      "{'_id': ObjectId('5d490f7bcbbebc13f4007785'), 'userName': 'elonmusk', 'retweets': 21710, 'favorites': 145631, 'followers': 27705559, 'media': 'image', 'date': datetime.datetime(2019, 7, 22, 4, 6, 14), '__v': 0}\n",
      "{'_id': ObjectId('5d490f7bcbbebc13f40076fd'), 'userName': 'elonmusk', 'retweets': 10235, 'favorites': 111499, 'followers': 27705559, 'media': 'image', 'date': datetime.datetime(2019, 8, 4, 11, 12, 37), '__v': 0}\n",
      "{'_id': ObjectId('5d490f7bcbbebc13f40076fc'), 'userName': 'elonmusk', 'retweets': 16000, 'favorites': 129000, 'followers': 27705559, 'media': 'image', 'date': datetime.datetime(2019, 8, 4, 11, 12, 39), '__v': 0}\n",
      "{'_id': ObjectId('5d490f7bcbbebc13f4007752'), 'userName': 'elonmusk', 'retweets': 9738, 'favorites': 124955, 'followers': 27705559, 'media': 'text', 'date': datetime.datetime(2019, 7, 27, 18, 15, 32), '__v': 0}\n",
      "{'_id': ObjectId('5d490f7bcbbebc13f4007738'), 'userName': 'elonmusk', 'retweets': 25124, 'favorites': 137724, 'followers': 27705559, 'media': 'video', 'date': datetime.datetime(2019, 7, 28, 19, 54, 33), '__v': 0}\n",
      "{'_id': ObjectId('5d490f7bcbbebc13f400778e'), 'userName': 'elonmusk', 'retweets': 179383, 'favorites': 639830, 'followers': 27705559, 'media': 'text', 'date': datetime.datetime(2019, 7, 21, 23, 5, 20), '__v': 0}\n",
      "{'_id': ObjectId('5d490f7bcbbebc13f4007784'), 'userName': 'elonmusk', 'retweets': 55777, 'favorites': 406720, 'followers': 27705559, 'media': 'text', 'date': datetime.datetime(2019, 7, 22, 4, 10, 58), '__v': 0}\n",
      "{'_id': ObjectId('5d490f7bcbbebc13f400779d'), 'userName': 'elonmusk', 'retweets': 39334, 'favorites': 277004, 'followers': 27705559, 'media': 'image', 'date': datetime.datetime(2019, 7, 19, 19, 45, 42), '__v': 0}\n",
      "{'_id': ObjectId('5d490f7bcbbebc13f40077b6'), 'userName': 'elonmusk', 'retweets': 21576, 'favorites': 151007, 'followers': 27705559, 'media': 'image', 'date': datetime.datetime(2019, 7, 17, 19, 41, 31), '__v': 0}\n",
      "{'_id': ObjectId('5d62d1c141bc1939b05d4074'), 'userName': 'elonmusk', 'retweets': 12338, 'favorites': 147566, 'followers': 27952632, 'media': 'text', 'date': datetime.datetime(2019, 8, 17, 7, 45, 49), '__v': 0}\n",
      "{'_id': ObjectId('5d62d1c141bc1939b05d409c'), 'userName': 'elonmusk', 'retweets': 19873, 'favorites': 100498, 'followers': 27952632, 'media': 'text', 'date': datetime.datetime(2019, 8, 10, 18, 16, 1), '__v': 0}\n",
      "{'_id': ObjectId('5d62d1c141bc1939b05d40c7'), 'userName': 'elonmusk', 'retweets': 12184, 'favorites': 106016, 'followers': 27952632, 'media': 'video', 'date': datetime.datetime(2019, 8, 7, 5, 10, 56), '__v': 0}\n",
      "{'_id': ObjectId('5d62d1c141bc1939b05d40db'), 'userName': 'elonmusk', 'retweets': 17428, 'favorites': 142051, 'followers': 27952632, 'media': 'image', 'date': datetime.datetime(2019, 8, 4, 11, 12, 39), '__v': 0}\n",
      "{'_id': ObjectId('5d62d1c141bc1939b05d406e'), 'userName': 'elonmusk', 'retweets': 8975, 'favorites': 101653, 'followers': 27952632, 'media': 'text', 'date': datetime.datetime(2019, 8, 18, 8, 4, 13), '__v': 0}\n",
      "{'_id': ObjectId('5d62d1c141bc1939b05d4071'), 'userName': 'elonmusk', 'retweets': 13491, 'favorites': 170106, 'followers': 27952632, 'media': 'text', 'date': datetime.datetime(2019, 8, 18, 0, 5, 10), '__v': 0}\n",
      "{'_id': ObjectId('5d62d1c141bc1939b05d4080'), 'userName': 'elonmusk', 'retweets': 34061, 'favorites': 259944, 'followers': 27952632, 'media': 'text', 'date': datetime.datetime(2019, 8, 16, 4, 23, 22), '__v': 0}\n",
      "{'_id': ObjectId('5d62d1c141bc1939b05d40ed'), 'userName': 'elonmusk', 'retweets': 53207, 'favorites': 217249, 'followers': 27952632, 'media': 'text', 'date': datetime.datetime(2019, 8, 4, 6, 18, 7), '__v': 0}\n",
      "{'_id': ObjectId('5d62d1c141bc1939b05d40e8'), 'userName': 'elonmusk', 'retweets': 21613, 'favorites': 176257, 'followers': 27952632, 'media': 'image', 'date': datetime.datetime(2019, 8, 4, 9, 56, 31), '__v': 0}\n",
      "{'_id': ObjectId('5d62d1c141bc1939b05d408f'), 'userName': 'elonmusk', 'retweets': 21447, 'favorites': 178740, 'followers': 27952632, 'media': 'image', 'date': datetime.datetime(2019, 8, 15, 0, 31, 33), '__v': 0}\n",
      "{'_id': ObjectId('5d62d1c141bc1939b05d4091'), 'userName': 'elonmusk', 'retweets': 21690, 'favorites': 204438, 'followers': 27952632, 'media': 'image', 'date': datetime.datetime(2019, 8, 14, 6, 30, 35), '__v': 0}\n",
      "{'_id': ObjectId('5d62d1c141bc1939b05d40dc'), 'userName': 'elonmusk', 'retweets': 10910, 'favorites': 120722, 'followers': 27952632, 'media': 'image', 'date': datetime.datetime(2019, 8, 4, 11, 12, 37), '__v': 0}\n",
      "{'_id': ObjectId('5d6e9b88a332490280dbd737'), 'userName': 'elonmusk', 'retweets': 53248, 'favorites': 336712, 'followers': 28063775, 'media': 'image', 'date': datetime.datetime(2019, 8, 30, 19, 33, 25), '__v': 0}\n",
      "{'_id': ObjectId('5d6e9b88a332490280dbd7a0'), 'userName': 'elonmusk', 'retweets': 12381, 'favorites': 148057, 'followers': 28063775, 'media': 'text', 'date': datetime.datetime(2019, 8, 17, 7, 45, 49), '__v': 0}\n",
      "{'_id': ObjectId('5d6e9b88a332490280dbd7c8'), 'userName': 'elonmusk', 'retweets': 19865, 'favorites': 100559, 'followers': 28063775, 'media': 'text', 'date': datetime.datetime(2019, 8, 10, 18, 16, 1), '__v': 0}\n",
      "{'_id': ObjectId('5d6e9b88a332490280dbd79a'), 'userName': 'elonmusk', 'retweets': 9005, 'favorites': 102186, 'followers': 28063775, 'media': 'text', 'date': datetime.datetime(2019, 8, 18, 8, 4, 13), '__v': 0}\n",
      "{'_id': ObjectId('5d6e9b88a332490280dbd7f3'), 'userName': 'elonmusk', 'retweets': 12188, 'favorites': 106150, 'followers': 28063775, 'media': 'video', 'date': datetime.datetime(2019, 8, 7, 5, 10, 56), '__v': 0}\n",
      "{'_id': ObjectId('5d6e9b88a332490280dbd79d'), 'userName': 'elonmusk', 'retweets': 13515, 'favorites': 170278, 'followers': 28063775, 'media': 'text', 'date': datetime.datetime(2019, 8, 18, 0, 5, 10), '__v': 0}\n",
      "{'_id': ObjectId('5d6e9b88a332490280dbd7bd'), 'userName': 'elonmusk', 'retweets': 21702, 'favorites': 204862, 'followers': 28063775, 'media': 'image', 'date': datetime.datetime(2019, 8, 14, 6, 30, 35), '__v': 0}\n",
      "{'_id': ObjectId('5d6e9b88a332490280dbd7ac'), 'userName': 'elonmusk', 'retweets': 34082, 'favorites': 260437, 'followers': 28063775, 'media': 'text', 'date': datetime.datetime(2019, 8, 16, 4, 23, 22), '__v': 0}\n",
      "{'_id': ObjectId('5d6e9b88a332490280dbd7bb'), 'userName': 'elonmusk', 'retweets': 21503, 'favorites': 179414, 'followers': 28063775, 'media': 'image', 'date': datetime.datetime(2019, 8, 15, 0, 31, 33), '__v': 0}\n",
      "{'_id': ObjectId('5d73be373e4a1a0788144dbc'), 'userName': 'elonmusk', 'retweets': 13126, 'favorites': 150975, 'followers': 28120976, 'media': 'text', 'date': datetime.datetime(2019, 9, 5, 19, 35, 12), '__v': 0}\n",
      "{'_id': ObjectId('6171e06c0d04806b2c8c085d'), 'userName': 'elonmusk', 'retweets': 72227, 'favorites': 606559, 'followers': 61176615, 'media': 'image', 'date': datetime.datetime(2021, 10, 21, 2, 41, 14), '__v': 0}\n",
      "{'_id': ObjectId('6171e06c0d04806b2c8c0872'), 'userName': 'elonmusk', 'retweets': 92111, 'favorites': 634165, 'followers': 61176615, 'media': 'image', 'date': datetime.datetime(2021, 10, 18, 21, 31, 31), '__v': 0}\n",
      "{'_id': ObjectId('6171e06c0d04806b2c8c087a'), 'userName': 'elonmusk', 'retweets': 51546, 'favorites': 394280, 'followers': 61176615, 'media': 'text', 'date': datetime.datetime(2021, 10, 17, 22, 20, 36), '__v': 0}\n",
      "{'_id': ObjectId('6171e06c0d04806b2c8c086f'), 'userName': 'elonmusk', 'retweets': 41970, 'favorites': 357064, 'followers': 61176615, 'media': 'image', 'date': datetime.datetime(2021, 10, 19, 12, 16, 20), '__v': 0}\n",
      "{'_id': ObjectId('6171e06c0d04806b2c8c0879'), 'userName': 'elonmusk', 'retweets': 16595, 'favorites': 180949, 'followers': 61176615, 'media': 'text', 'date': datetime.datetime(2021, 10, 17, 22, 22, 31), '__v': 0}\n",
      "{'_id': ObjectId('6171e06c0d04806b2c8c0897'), 'userName': 'elonmusk', 'retweets': 34237, 'favorites': 301826, 'followers': 61176615, 'media': 'text', 'date': datetime.datetime(2021, 10, 14, 7, 57, 30), '__v': 0}\n",
      "{'_id': ObjectId('6171e06c0d04806b2c8c08a8'), 'userName': 'elonmusk', 'retweets': 9218, 'favorites': 109588, 'followers': 61176615, 'media': 'video', 'date': datetime.datetime(2021, 10, 12, 1, 17, 1), '__v': 0}\n",
      "{'_id': ObjectId('6171e06c0d04806b2c8c08b7'), 'userName': 'elonmusk', 'retweets': 10885, 'favorites': 117668, 'followers': 61176615, 'media': 'text', 'date': datetime.datetime(2021, 10, 11, 4, 57, 50), '__v': 0}\n",
      "{'_id': ObjectId('6171e06c0d04806b2c8c08ed'), 'userName': 'elonmusk', 'retweets': 15492, 'favorites': 200356, 'followers': 61176615, 'media': 'video', 'date': datetime.datetime(2021, 10, 2, 17, 55, 39), '__v': 0}\n",
      "{'_id': ObjectId('6171e06c0d04806b2c8c08dc'), 'userName': 'elonmusk', 'retweets': 36301, 'favorites': 399306, 'followers': 61176615, 'media': 'image', 'date': datetime.datetime(2021, 10, 4, 1, 41, 58), '__v': 0}\n",
      "{'_id': ObjectId('618c4679b7e1ea64846eca53'), 'userName': 'elonmusk', 'retweets': 9960, 'favorites': 179417, 'followers': 63256524, 'hashtags': '', 'media': 'image', 'date': datetime.datetime(2021, 11, 9, 8, 13, 40), '__v': 0}\n"
     ]
    }
   ],
   "source": [
    "for x in response_collection.find({\"userName\": \"elonmusk\", \"favorites\": {\"$gt\": 100000}, \"retweets\": {\"$gt\": 5000}},{ \"quotes\": 0 }):\n",
    "  print(x)"
   ]
  },
  {
   "cell_type": "code",
   "execution_count": 33,
   "id": "b136363d-6c57-4019-a215-2e806b052cbf",
   "metadata": {},
   "outputs": [],
   "source": [
    "cursor = response_collection.find({\"userName\": \"elonmusk\", \"favorites\": {\"$gt\": 100000}, \"retweets\": {\"$gt\": 5000}},{ \"quotes\": 0 })\n",
    "df = pd.DataFrame(list(cursor))\n",
    "# Delete the _id\n",
    "del df['_id']\n",
    "del df['__v']"
   ]
  },
  {
   "cell_type": "code",
   "execution_count": 34,
   "id": "6455319d-c7f3-47e3-bbdf-b5580bdb661e",
   "metadata": {},
   "outputs": [
    {
     "data": {
      "text/html": [
       "<div>\n",
       "<style scoped>\n",
       "    .dataframe tbody tr th:only-of-type {\n",
       "        vertical-align: middle;\n",
       "    }\n",
       "\n",
       "    .dataframe tbody tr th {\n",
       "        vertical-align: top;\n",
       "    }\n",
       "\n",
       "    .dataframe thead th {\n",
       "        text-align: right;\n",
       "    }\n",
       "</style>\n",
       "<table border=\"1\" class=\"dataframe\">\n",
       "  <thead>\n",
       "    <tr style=\"text-align: right;\">\n",
       "      <th></th>\n",
       "      <th>userName</th>\n",
       "      <th>retweets</th>\n",
       "      <th>favorites</th>\n",
       "      <th>followers</th>\n",
       "      <th>media</th>\n",
       "      <th>date</th>\n",
       "      <th>hashtags</th>\n",
       "    </tr>\n",
       "  </thead>\n",
       "  <tbody>\n",
       "    <tr>\n",
       "      <th>0</th>\n",
       "      <td>elonmusk</td>\n",
       "      <td>51079</td>\n",
       "      <td>210271</td>\n",
       "      <td>27705559</td>\n",
       "      <td>text</td>\n",
       "      <td>2019-08-04 06:18:07</td>\n",
       "      <td>NaN</td>\n",
       "    </tr>\n",
       "    <tr>\n",
       "      <th>1</th>\n",
       "      <td>elonmusk</td>\n",
       "      <td>20829</td>\n",
       "      <td>168368</td>\n",
       "      <td>27705559</td>\n",
       "      <td>image</td>\n",
       "      <td>2019-08-04 09:56:31</td>\n",
       "      <td>NaN</td>\n",
       "    </tr>\n",
       "    <tr>\n",
       "      <th>2</th>\n",
       "      <td>elonmusk</td>\n",
       "      <td>50872</td>\n",
       "      <td>279337</td>\n",
       "      <td>27705559</td>\n",
       "      <td>image</td>\n",
       "      <td>2019-08-01 19:59:23</td>\n",
       "      <td>NaN</td>\n",
       "    </tr>\n",
       "    <tr>\n",
       "      <th>3</th>\n",
       "      <td>elonmusk</td>\n",
       "      <td>21710</td>\n",
       "      <td>145631</td>\n",
       "      <td>27705559</td>\n",
       "      <td>image</td>\n",
       "      <td>2019-07-22 04:06:14</td>\n",
       "      <td>NaN</td>\n",
       "    </tr>\n",
       "    <tr>\n",
       "      <th>4</th>\n",
       "      <td>elonmusk</td>\n",
       "      <td>10235</td>\n",
       "      <td>111499</td>\n",
       "      <td>27705559</td>\n",
       "      <td>image</td>\n",
       "      <td>2019-08-04 11:12:37</td>\n",
       "      <td>NaN</td>\n",
       "    </tr>\n",
       "  </tbody>\n",
       "</table>\n",
       "</div>"
      ],
      "text/plain": [
       "   userName  retweets  favorites  followers  media                date  \\\n",
       "0  elonmusk     51079     210271   27705559   text 2019-08-04 06:18:07   \n",
       "1  elonmusk     20829     168368   27705559  image 2019-08-04 09:56:31   \n",
       "2  elonmusk     50872     279337   27705559  image 2019-08-01 19:59:23   \n",
       "3  elonmusk     21710     145631   27705559  image 2019-07-22 04:06:14   \n",
       "4  elonmusk     10235     111499   27705559  image 2019-08-04 11:12:37   \n",
       "\n",
       "  hashtags  \n",
       "0      NaN  \n",
       "1      NaN  \n",
       "2      NaN  \n",
       "3      NaN  \n",
       "4      NaN  "
      ]
     },
     "execution_count": 34,
     "metadata": {},
     "output_type": "execute_result"
    }
   ],
   "source": [
    "df.head()"
   ]
  },
  {
   "cell_type": "code",
   "execution_count": 42,
   "id": "6192bef8-1124-487d-b159-3472c73d5390",
   "metadata": {},
   "outputs": [
    {
     "data": {
      "text/html": [
       "<div>\n",
       "<style scoped>\n",
       "    .dataframe tbody tr th:only-of-type {\n",
       "        vertical-align: middle;\n",
       "    }\n",
       "\n",
       "    .dataframe tbody tr th {\n",
       "        vertical-align: top;\n",
       "    }\n",
       "\n",
       "    .dataframe thead th {\n",
       "        text-align: right;\n",
       "    }\n",
       "</style>\n",
       "<table border=\"1\" class=\"dataframe\">\n",
       "  <thead>\n",
       "    <tr style=\"text-align: right;\">\n",
       "      <th></th>\n",
       "      <th>userName</th>\n",
       "      <th>retweets</th>\n",
       "      <th>favorites</th>\n",
       "      <th>followers</th>\n",
       "      <th>media</th>\n",
       "      <th>date</th>\n",
       "      <th>hashtags</th>\n",
       "    </tr>\n",
       "  </thead>\n",
       "  <tbody>\n",
       "    <tr>\n",
       "      <th>44</th>\n",
       "      <td>elonmusk</td>\n",
       "      <td>9960</td>\n",
       "      <td>179417</td>\n",
       "      <td>63256524</td>\n",
       "      <td>image</td>\n",
       "      <td>2021-11-09 08:13:40</td>\n",
       "      <td></td>\n",
       "    </tr>\n",
       "  </tbody>\n",
       "</table>\n",
       "</div>"
      ],
      "text/plain": [
       "    userName  retweets  favorites  followers  media                date  \\\n",
       "44  elonmusk      9960     179417   63256524  image 2021-11-09 08:13:40   \n",
       "\n",
       "   hashtags  \n",
       "44           "
      ]
     },
     "execution_count": 42,
     "metadata": {},
     "output_type": "execute_result"
    }
   ],
   "source": [
    "df.loc[df['hashtags'].isnull() == False]"
   ]
  },
  {
   "cell_type": "code",
   "execution_count": 46,
   "id": "a2b65f9a-529d-4e13-97e3-8fed97397ab3",
   "metadata": {},
   "outputs": [
    {
     "name": "stdout",
     "output_type": "stream",
     "text": [
      "{'_id': ObjectId('618c4679b7e1ea64846eca53'), 'userName': 'elonmusk', 'retweets': 9960, 'favorites': 179417, 'followers': 63256524, 'hashtags': '', 'media': 'image', 'date': datetime.datetime(2021, 11, 9, 8, 13, 40), '__v': 0}\n"
     ]
    }
   ],
   "source": [
    "for x in response_collection.find({\"userName\": \"elonmusk\", \"favorites\": {\"$gt\": 100000}, \"retweets\": {\"$gt\": 5000},  \"hashtags\" : {\"$exists\":True}},{ \"quotes\": 0 }):\n",
    "  print(x)"
   ]
  },
  {
   "cell_type": "code",
   "execution_count": null,
   "id": "347f31b9-aee5-4a8c-b1fa-2b7148a8fd5b",
   "metadata": {},
   "outputs": [],
   "source": []
  }
 ],
 "metadata": {
  "kernelspec": {
   "display_name": "Python 3",
   "language": "python",
   "name": "python3"
  },
  "language_info": {
   "codemirror_mode": {
    "name": "ipython",
    "version": 3
   },
   "file_extension": ".py",
   "mimetype": "text/x-python",
   "name": "python",
   "nbconvert_exporter": "python",
   "pygments_lexer": "ipython3",
   "version": "3.8.8"
  }
 },
 "nbformat": 4,
 "nbformat_minor": 5
}
